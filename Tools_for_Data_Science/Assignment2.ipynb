{
 "cells": [
  {
   "cell_type": "markdown",
   "metadata": {},
   "source": [
    "# My Jupyter Notebook on IBM Watson Studio"
   ]
  },
  {
   "cell_type": "markdown",
   "metadata": {},
   "source": [
    "**Yesha Patel**<br>\n",
    "Computer Engineerind student"
   ]
  },
  {
   "cell_type": "markdown",
   "metadata": {},
   "source": [
    "*“For me, data science was a way to become a detective.” For every new case, you have to go into a new field to try to understand how it works, to massage the data until you understand them, to try to acquire all the knowledge of the field without being a specialist. And because I am very curious about very different techniques in science, for me, it is exactly what I wanted.*"
   ]
  },
  {
   "cell_type": "markdown",
   "metadata": {},
   "source": [
    "### The code below will print current time"
   ]
  },
  {
   "cell_type": "code",
   "execution_count": 4,
   "metadata": {},
   "outputs": [
    {
     "name": "stdout",
     "output_type": "stream",
     "text": [
      "02:42:25.197548\n"
     ]
    }
   ],
   "source": [
    "from datetime import datetime \n",
    "\n",
    "current_time = datetime.now().time()\n",
    "print(current_timerent_time)"
   ]
  },
  {
   "cell_type": "markdown",
   "metadata": {},
   "source": [
    "___\n",
    "\n",
    "## Time Management\n",
    "\n",
    "![time](https://github.com/adam-p/markdown-here/raw/master/src/common/images/icon48.png)\n",
    "`The two most powerful warriors are patience and time.`\n",
    "***\n",
    "* Create a time audit.\n",
    "* Before meetings, determine your desired results.\n",
    "* Put a time limit on tasks.\n",
    "* Plan your week on Sunday.\n",
    "\n",
    "For more information [hit me].(https://toggl.com/track/time-management-tips/)"
   ]
  }
 ],
 "metadata": {
  "kernelspec": {
   "display_name": "Python 3",
   "language": "python",
   "name": "python3"
  },
  "language_info": {
   "codemirror_mode": {
    "name": "ipython",
    "version": 3
   },
   "file_extension": ".py",
   "mimetype": "text/x-python",
   "name": "python",
   "nbconvert_exporter": "python",
   "pygments_lexer": "ipython3",
   "version": "3.8.5"
  }
 },
 "nbformat": 4,
 "nbformat_minor": 4
}
